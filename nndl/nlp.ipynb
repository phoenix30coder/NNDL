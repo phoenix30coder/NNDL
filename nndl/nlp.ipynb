{
  "nbformat": 4,
  "nbformat_minor": 0,
  "metadata": {
    "colab": {
      "provenance": []
    },
    "kernelspec": {
      "name": "python3",
      "display_name": "Python 3"
    },
    "language_info": {
      "name": "python"
    }
  },
  "cells": [
    {
      "cell_type": "code",
      "execution_count": 4,
      "metadata": {
        "colab": {
          "base_uri": "https://localhost:8080/"
        },
        "id": "PSIjZkiegQJq",
        "outputId": "e8f3ae22-092f-445c-ca6c-db59201a21e3"
      },
      "outputs": [
        {
          "output_type": "stream",
          "name": "stdout",
          "text": [
            "Enter maximum sequence length: 5\n",
            "Enter learning rate (alpha): 0.5\n",
            "Enter discount factor (gamma): 0.5\n",
            "Enter exploration rate (epsilon): 0.5\n",
            "Enter number of training episodes: 10\n",
            "Episode 1: Generated sequence ['foo', 'hello', 'hello', 'bar', 'hello'] with reward 1.0\n",
            "Episode 2: Generated sequence ['bar', 'bar', 'baz', 'bar', 'hello'] with reward 1.0\n",
            "Episode 3: Generated sequence ['bar', 'bar', 'baz', 'bar', 'hello'] with reward 1.0\n",
            "Episode 4: Generated sequence ['baz', 'world', 'baz', 'bar', 'bar'] with reward 1.0\n",
            "Episode 5: Generated sequence ['bar', 'foo', 'bar', 'hello', 'hello'] with reward 1.0\n",
            "Episode 6: Generated sequence ['hello', 'world', 'world', 'bar', 'hello'] with reward 1.0\n",
            "Episode 7: Generated sequence ['bar', 'bar', 'baz', 'bar', 'hello'] with reward 1.0\n",
            "Episode 8: Generated sequence ['bar', 'bar', 'bar', 'bar', 'world'] with reward 1.0\n",
            "Episode 9: Generated sequence ['bar', 'bar', 'hello', 'bar', 'foo'] with reward 1.0\n",
            "Episode 10: Generated sequence ['bar', 'bar', 'hello', 'hello', 'hello'] with reward 1.0\n",
            "Training completed.\n",
            "Final Q-table:\n",
            "[[0.7421875  0.         0.5        1.71166992 0.7421875 ]\n",
            " [0.5        1.1796875  0.8046875  1.62744141 0.        ]\n",
            " [1.24804688 0.734375   0.         1.11328125 1.3515625 ]\n",
            " [0.75       0.         0.         0.99609375 0.        ]\n",
            " [0.         0.         0.         0.         0.        ]]\n"
          ]
        }
      ],
      "source": [
        "import numpy as np\n",
        "import random\n",
        "\n",
        "# Define the vocabulary\n",
        "vocab = [\"hello\", \"world\", \"foo\", \"bar\", \"baz\"]\n",
        "vocab_size = len(vocab)\n",
        "\n",
        "# Initialize Q-table\n",
        "def initialize_q_table(vocab_size, seq_length):\n",
        "    return np.zeros((seq_length, vocab_size))\n",
        "\n",
        "def get_reward(sequence):\n",
        "    # Reward based on the length of the sequence\n",
        "    return len(sequence) / len(sequence)\n",
        "\n",
        "def choose_action(state, q_table, epsilon, vocab_size):\n",
        "    if random.uniform(0, 1) < epsilon:\n",
        "        # Explore: choose a random action\n",
        "        return random.randint(0, vocab_size - 1)\n",
        "    else:\n",
        "        # Exploit: choose the action with the highest Q-value\n",
        "        return np.argmax(q_table[state])\n",
        "\n",
        "def update_q_table(state, action, reward, next_state, q_table, alpha, gamma):\n",
        "    best_next_action = np.argmax(q_table[next_state])\n",
        "    td_target = reward + gamma * q_table[next_state, best_next_action]\n",
        "    td_error = td_target - q_table[state, action]\n",
        "    q_table[state, action] += alpha * td_error\n",
        "\n",
        "def generate_sequence(q_table, vocab, seq_length, epsilon, alpha, gamma):\n",
        "    state = 0\n",
        "    sequence = []\n",
        "    while state < seq_length:\n",
        "        action = choose_action(state, q_table, epsilon, vocab_size)\n",
        "        word = vocab[action]\n",
        "        sequence.append(word)\n",
        "        reward = get_reward(sequence)\n",
        "        next_state = state + 1\n",
        "        if next_state >= seq_length:\n",
        "            break\n",
        "        update_q_table(state, action, reward, next_state, q_table, alpha, gamma)\n",
        "        state = next_state\n",
        "    return sequence\n",
        "\n",
        "def interactive_q_learning():\n",
        "    global vocab_size\n",
        "    vocab_size = len(vocab)  # Update vocab_size with the current vocabulary size\n",
        "\n",
        "    # User input\n",
        "    seq_length = int(input(\"Enter maximum sequence length: \"))\n",
        "    alpha = float(input(\"Enter learning rate (alpha): \"))\n",
        "    gamma = float(input(\"Enter discount factor (gamma): \"))\n",
        "    epsilon = float(input(\"Enter exploration rate (epsilon): \"))\n",
        "    n_episodes = int(input(\"Enter number of training episodes: \"))\n",
        "\n",
        "    # Initialize Q-table\n",
        "    q_table = initialize_q_table(vocab_size, seq_length)\n",
        "\n",
        "    # Training loop\n",
        "    for episode in range(n_episodes):\n",
        "        sequence = generate_sequence(q_table, vocab, seq_length, epsilon, alpha, gamma)\n",
        "        reward = get_reward(sequence)\n",
        "        print(f\"Episode {episode + 1}: Generated sequence {sequence} with reward {reward}\")\n",
        "\n",
        "    print(\"Training completed.\")\n",
        "    print(\"Final Q-table:\")\n",
        "    print(q_table)\n",
        "\n",
        "if __name__ == \"__main__\":\n",
        "    interactive_q_learning()\n"
      ]
    },
    {
      "cell_type": "code",
      "source": [],
      "metadata": {
        "id": "LQZ5mz8jgQ9e"
      },
      "execution_count": null,
      "outputs": []
    }
  ]
}